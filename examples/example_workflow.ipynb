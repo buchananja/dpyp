{
 "cells": [
  {
   "cell_type": "code",
   "execution_count": null,
   "metadata": {},
   "outputs": [],
   "source": [
    "import dpyp as dp\n",
    "import numpy as np\n",
    "import pandas as pd\n",
    "\n",
    "\n",
    "# randomly generated example dataset\n",
    "num_records = np.random.randint(\n",
    "    low = 150, \n",
    "    high = 250\n",
    ")\n",
    "df_raw = pd.DataFrame(data = {\n",
    "        'Record Year': np.random.choice(\n",
    "            ['2024', '2023', '2022', '2021', '2020'], \n",
    "            p = [0.2, 0.2, 0.2, 0.2, 0.2], \n",
    "            size = num_records\n",
    "        ),\n",
    "        'Species': np.random.choice(\n",
    "            ['Pinus sylvestris', 'Picea sitchensis'], \n",
    "            p = [0.6, 0.4], \n",
    "            size = num_records\n",
    "        ),\n",
    "        'Height Category': np.random.choice(\n",
    "            ['large', 'medium', 'small'], \n",
    "            p = [0.5, 0.3, 0.2], \n",
    "            size = num_records\n",
    "        ),\n",
    "        'Age': np.random.randint(\n",
    "            low = 1, \n",
    "            high = 5, \n",
    "            size = num_records\n",
    "        )\n",
    "    }\n",
    ")"
   ]
  },
  {
   "cell_type": "code",
   "execution_count": null,
   "metadata": {},
   "outputs": [],
   "source": [
    "(df_raw\n",
    "    .pipe(dp.HClean.headers_to_snakecase)\n",
    ")"
   ]
  }
 ],
 "metadata": {
  "kernelspec": {
   "display_name": "dpyp",
   "language": "python",
   "name": "python3"
  },
  "language_info": {
   "codemirror_mode": {
    "name": "ipython",
    "version": 3
   },
   "file_extension": ".py",
   "mimetype": "text/x-python",
   "name": "python",
   "nbconvert_exporter": "python",
   "pygments_lexer": "ipython3",
   "version": "3.12.3"
  }
 },
 "nbformat": 4,
 "nbformat_minor": 2
}
