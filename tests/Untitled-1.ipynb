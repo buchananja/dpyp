{
 "cells": [
  {
   "cell_type": "code",
   "execution_count": 1,
   "metadata": {},
   "outputs": [
    {
     "data": {
      "text/plain": [
       "[26.0, 80.0, 46.0, 38.0, 10.0, 20.0, nan]"
      ]
     },
     "execution_count": 1,
     "metadata": {},
     "output_type": "execute_result"
    }
   ],
   "source": [
    "import pandas as pd\n",
    "import dpyp as dp\n",
    "import numpy as np\n",
    "\n",
    "\n",
    "df = pd.DataFrame(\n",
    "    {\n",
    "        'Programme School': [\n",
    "            'school_of_biological_sciences',\n",
    "            'school_of_natural_science',\n",
    "            'school_of_engineering',\n",
    "            'school_of_biological_sciences',\n",
    "            'school_of_music',\n",
    "            'school_of_medicine',\n",
    "            'school_of_art'\n",
    "        ],\n",
    "        'Population_1': [\n",
    "            13,\n",
    "            40,\n",
    "            23,\n",
    "            19,\n",
    "            5,\n",
    "            10,\n",
    "            np.nan\n",
    "        ],\n",
    "        'Population_2': [\n",
    "            12,\n",
    "            50,\n",
    "            33,\n",
    "            20,\n",
    "            4,\n",
    "            11,\n",
    "            1\n",
    "        ],\n",
    "    }\n",
    ")\n",
    "\n",
    "(df['Population_1']*2).to_list()"
   ]
  },
  {
   "cell_type": "code",
   "execution_count": 3,
   "metadata": {},
   "outputs": [
    {
     "ename": "AttributeError",
     "evalue": "module 'dpyp' has no attribute 'row_power'",
     "output_type": "error",
     "traceback": [
      "\u001b[1;31m---------------------------------------------------------------------------\u001b[0m",
      "\u001b[1;31mAttributeError\u001b[0m                            Traceback (most recent call last)",
      "Cell \u001b[1;32mIn[3], line 1\u001b[0m\n\u001b[1;32m----> 1\u001b[0m dp\u001b[38;5;241m.\u001b[39mrow_power(df\u001b[38;5;241m.\u001b[39miloc[\u001b[38;5;241m0\u001b[39m], \u001b[38;5;124m'\u001b[39m\u001b[38;5;124mPopulation_1\u001b[39m\u001b[38;5;124m'\u001b[39m, \u001b[38;5;241m2\u001b[39m)\n",
      "\u001b[1;31mAttributeError\u001b[0m: module 'dpyp' has no attribute 'row_power'"
     ]
    }
   ],
   "source": [
    "dp.row_power(df.iloc[0], 'Population_1', 2)"
   ]
  }
 ],
 "metadata": {
  "kernelspec": {
   "display_name": "dpyp",
   "language": "python",
   "name": "python3"
  },
  "language_info": {
   "codemirror_mode": {
    "name": "ipython",
    "version": 3
   },
   "file_extension": ".py",
   "mimetype": "text/x-python",
   "name": "python",
   "nbconvert_exporter": "python",
   "pygments_lexer": "ipython3",
   "version": "3.12.1"
  }
 },
 "nbformat": 4,
 "nbformat_minor": 2
}
