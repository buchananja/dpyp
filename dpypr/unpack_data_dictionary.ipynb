{
 "cells": [
  {
   "cell_type": "code",
   "execution_count": null,
   "metadata": {},
   "outputs": [],
   "source": [
    "def unpack_data_dictionary(\n",
    "        data_dictionary, \n",
    "        globals_dict = globals(), \n",
    "        sleep_seconds = 0, \n",
    "        messaging = False\n",
    "    ):\n",
    "    '''\n",
    "    Loads all data from data_dictionary into global variables with record \n",
    "    counts.\n",
    "    '''\n",
    "    for key, value in data_dictionary.items():\n",
    "        globals_dict[f'df_{key}'] = value\n",
    "        if messaging:\n",
    "            sleep_log(\n",
    "                f'- Loaded df_{key} ({len(value):,}) records.', \n",
    "                sleep_time = sleep_seconds\n",
    "                )"
   ]
  }
 ],
 "metadata": {
  "language_info": {
   "name": "python"
  }
 },
 "nbformat": 4,
 "nbformat_minor": 2
}
